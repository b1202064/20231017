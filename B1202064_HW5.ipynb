{
  "nbformat": 4,
  "nbformat_minor": 0,
  "metadata": {
    "colab": {
      "provenance": []
    },
    "kernelspec": {
      "name": "python3",
      "display_name": "Python 3"
    },
    "language_info": {
      "name": "python"
    }
  },
  "cells": [
    {
      "cell_type": "code",
      "execution_count": 8,
      "metadata": {
        "colab": {
          "base_uri": "https://localhost:8080/"
        },
        "id": "cjvPmGZG-My5",
        "outputId": "16d7adf0-d074-4b50-aee5-66014b7712c7"
      },
      "outputs": [
        {
          "output_type": "stream",
          "name": "stdout",
          "text": [
            "         *\n",
            "        ***\n",
            "       *****\n",
            "      *******\n",
            "     *********\n",
            "    ***********\n",
            "   *************\n",
            "  ***************\n",
            " *****************\n",
            "        ***\n",
            "        ***\n",
            "        ***\n",
            "        ***\n",
            "        ***\n"
          ]
        }
      ],
      "source": [
        "height=9\n",
        "star=1\n",
        "for p in range(height):\n",
        "  print(\" \"*(height-p)+\"*\"*star)\n",
        "  star+=2\n",
        "for q in range(5):\n",
        "  print(\" \"*8+\"*\"*3)"
      ]
    },
    {
      "cell_type": "code",
      "source": [
        "import random\n",
        "answer=random.sample(range(1,10),4)\n",
        "a=b=n=0\n",
        "num=0\n",
        "while a!=4:\n",
        "  trail=list(input(\"請輸入四個數字(不會重複):\"))\n",
        "  if len(trail)>4:\n",
        "    trail=input(\"輸入字數過多，請輸入四個數字:\")\n",
        "  elif len(trail)<4:\n",
        "    trail=input(\"輸入字數過少，請輸入四個數字:\")\n",
        "  num+=1\n",
        "  a=b=n=0\n",
        "  for i in trail:\n",
        "    if int(trail[n])==answer[n]:\n",
        "      a+=1\n",
        "    elif int(i) in answer:\n",
        "      b+=1\n",
        "    n+=1\n",
        "  for i in range(4):\n",
        "    print(trail[i],end=\"\")\n",
        "  print(\":\",f'{a}A{b}B')\n",
        "if a==4:\n",
        "  print(f'答對了，總共猜了{num}次')"
      ],
      "metadata": {
        "colab": {
          "base_uri": "https://localhost:8080/"
        },
        "id": "_OfLvnhSA2Pw",
        "outputId": "aff0994c-9962-46cf-f73d-24c2220c130f"
      },
      "execution_count": 23,
      "outputs": [
        {
          "output_type": "stream",
          "name": "stdout",
          "text": [
            "請輸入四個數字(不會重複):1234\n",
            "1234: 0A2B\n",
            "請輸入四個數字(不會重複):6789\n",
            "6789: 1A1B\n",
            "請輸入四個數字(不會重複):6795\n",
            "6795: 0A2B\n",
            "請輸入四個數字(不會重複):7649\n",
            "7649: 2A1B\n",
            "請輸入四個數字(不會重複):7429\n",
            "7429: 4A0B\n",
            "答對了，總共猜了5次\n"
          ]
        }
      ]
    }
  ]
}